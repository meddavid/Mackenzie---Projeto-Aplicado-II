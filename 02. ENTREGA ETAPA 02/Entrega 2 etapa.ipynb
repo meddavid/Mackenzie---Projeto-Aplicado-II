{
 "cells": [
  {
   "cell_type": "markdown",
   "metadata": {},
   "source": [
    "Começamos por Carregar as bibliotecas utilizadas neste Projeto"
   ]
  },
  {
   "cell_type": "code",
   "execution_count": null,
   "metadata": {},
   "outputs": [],
   "source": [
    "\n",
    "import pandas as pd\n",
    "import matplotlib.pyplot as plt\n",
    "from sklearn.linear_model import LinearRegression\n",
    "from sklearn.model_selection import train_test_split\n",
    "from sklearn.metrics import mean_squared_error\n",
    "import matplotlib.pyplot as plt\n",
    "import random\n",
    "import seaborn as sns\n",
    "import fsspec\n",
    "import numpy as np\n",
    "import seaborn as sns"
   ]
  },
  {
   "cell_type": "markdown",
   "metadata": {},
   "source": [
    "Nossa base de dados"
   ]
  },
  {
   "cell_type": "code",
   "execution_count": null,
   "metadata": {},
   "outputs": [],
   "source": [
    "\n",
    "base_dados = pd.read_csv('C:\\Users\\avsan\\.vscode\\Projeto Aplicado II\\alt_fuel_stations (Mar 18 2024).csv')\n",
    "base_dados.head()\n",
    "base_dados.info()\n",
    "base_dados.dropna()\n"
   ]
  },
  {
   "cell_type": "markdown",
   "metadata": {},
   "source": [
    "Preparaçao e Tratamento dos dados"
   ]
  },
  {
   "cell_type": "code",
   "execution_count": null,
   "metadata": {},
   "outputs": [],
   "source": [
    "\n",
    "base_dados.isnull().sum() / len(base_dados)\n",
    "\n",
    "print('Before', len(base_dados))\n",
    "base_dados = base_dados.dropna()\n",
    "print('After', len(base_dados))"
   ]
  },
  {
   "cell_type": "markdown",
   "metadata": {},
   "source": [
    "Analisando o Banco de Dados selecionamos as colunas para o projeto"
   ]
  },
  {
   "cell_type": "code",
   "execution_count": null,
   "metadata": {},
   "outputs": [],
   "source": [
    "\n",
    "dados_selecionados = pd.DataFrame(base_dados)\n",
    "colunas_selecionadas = ['City', 'State', 'Model Year', 'Make', 'Model',\n",
    "                        'Electric Vehicle Type', 'Electric Range',\n",
    "                        'Electric Utility', 'Vehicle Location'] \n",
    "\n",
    "\n",
    "df = dados_selecionados[colunas_selecionadas]\n",
    "\n",
    "df.head(15)\n",
    "df.tail()\n",
    "df.index\n",
    "df.columns\n",
    "df.shape\n"
   ]
  },
  {
   "cell_type": "markdown",
   "metadata": {},
   "source": [
    "Alteraçoes necessárias para proseguir com a Analise Exploratória"
   ]
  },
  {
   "cell_type": "code",
   "execution_count": null,
   "metadata": {},
   "outputs": [],
   "source": [
    "df.rename(columns={'Electric Range': 'Electric_Range'}, inplace=True)\n",
    "df.info\n"
   ]
  },
  {
   "cell_type": "markdown",
   "metadata": {},
   "source": [
    "Agrupamos os dados por marca, separamos armazenamos em subdataframes e criamos um script para consulta"
   ]
  },
  {
   "cell_type": "code",
   "execution_count": null,
   "metadata": {},
   "outputs": [],
   "source": [
    "\n",
    "# Separar os dados por marcas\n",
    "marcas = df['Make'].unique()\n",
    "\n",
    "# Dicionário para armazenar os subdataframes\n",
    "subdataframes = {}\n",
    "\n",
    "# Iterando sobre as marcas únicas\n",
    "for marca in marcas:\n",
    "    # Criando o subdataframe para cada marca\n",
    "    subdataframes[marca] = df[df['Make'] == marca]\n",
    "\n",
    "# Consultando e criando um novo dataset com as primeiras linhas do subdataframe por marca\n",
    "for marca_desejada in subdataframes.keys():\n",
    "    print(f\"\\nSubdataframe da marca {marca_desejada}:\")\n",
    "    sub_df = subdataframes[marca_desejada] #aqui pode colocar a consulta, ex .head()\n",
    "    globals()[f\"sub_df_{marca_desejada}\"] = sub_df\n",
    "    print(sub_df)\n"
   ]
  },
  {
   "cell_type": "markdown",
   "metadata": {},
   "source": [
    "\n",
    "geramos graficos automatizados para todos os subdataframes para analise exploratoria.\n",
    "Vamos contar a frequencia dos modelos de carros de cada marca\n"
   ]
  },
  {
   "cell_type": "code",
   "execution_count": null,
   "metadata": {},
   "outputs": [],
   "source": [
    "# Defina o número de gráficos por página\n",
    "graficos_por_pagina = 6\n",
    "linhas_por_pagina = 2\n",
    "colunas_por_pagina = 3\n",
    "\n",
    "# Tamanho da fonte do título do gráfico\n",
    "tamanho_fonte_titulo = 8\n",
    "\n",
    "# Inicialize uma variável para contar os gráficos\n",
    "contador_graficos = 0\n",
    "\n",
    "# Inicialize uma lista vazia para armazenar os eixos\n",
    "eixos = None\n",
    "\n",
    "# Iterando sobre os subdatasets para gerar gráficos\n",
    "for marca, sub_df in subdataframes.items():\n",
    "    # Contando a frequência dos modelos de carros em cada marca\n",
    "    contagem_modelos = sub_df['Model'].value_counts()\n",
    "    \n",
    "    # Verificando se é necessário criar uma nova página\n",
    "    if contador_graficos % graficos_por_pagina == 0:\n",
    "        # Criando uma nova figura e eixos\n",
    "        fig, eixos = plt.subplots(linhas_por_pagina, colunas_por_pagina, figsize=(15, 10))\n",
    "    \n",
    "    # Calculando a posição do gráfico na página\n",
    "    linha = contador_graficos // colunas_por_pagina % linhas_por_pagina\n",
    "    coluna = contador_graficos % colunas_por_pagina\n",
    "    \n",
    "    # Criando o gráfico de barras no subplot correspondente\n",
    "    contagem_modelos.plot(kind='bar', color='#1f77b4', edgecolor='black', linewidth=3, ax=eixos[linha, coluna])\n",
    "    eixos[linha, coluna].set_title(f'Frequência dos modelos de carros da marca {marca}', fontsize=tamanho_fonte_titulo)\n",
    "    eixos[linha, coluna].set_xlabel('Modelo')\n",
    "    eixos[linha, coluna].set_ylabel('Frequência')\n",
    "    eixos[linha, coluna].tick_params(axis='x', rotation=45)\n",
    "    \n",
    "    # Incrementando o contador de gráficos\n",
    "    contador_graficos += 1\n",
    "\n",
    "# Ajustando o layout da última página de gráficos\n",
    "plt.tight_layout()\n",
    "# Exibindo a última página de gráficos\n",
    "plt.show()"
   ]
  },
  {
   "cell_type": "markdown",
   "metadata": {},
   "source": [
    "Visualisando os dados entendemos ser necessária a separação entre carros eletricos 'BEV' e Hibridos 'PHEV'\n",
    "\n",
    "# Significado das siglas BEV e PHEV\n",
    "#BEV(Battery Electric Vehicle): Um BEV é um veiculo elétrico que é alimentado\n",
    "#exclusivamente por bateria. Isso significa que ele nao possui\n",
    "#um motor de combustão interna e depende apenas de uma bateria\n",
    "#recarregável para fornecer energia.\n",
    "\n",
    "#PHEV(Plug-in-Hybrid Electric Vehicle): Um PHEV é um tipo de\n",
    "#veiculo eletrico que possui tanto um motor eletrico quanto\n",
    "#um motor a combustão interna. Esses veiculos sao equipados\n",
    "#com uma bateria recarregável que alimenta o motor elétrico\n",
    "#e tambem possuem um tanque de combustivel para alimentar o motor\n",
    "#a combustao"
   ]
  },
  {
   "cell_type": "code",
   "execution_count": null,
   "metadata": {},
   "outputs": [],
   "source": [
    "# Defina o número de gráficos por página\n",
    "graficos_por_pagina = 6\n",
    "\n",
    "# Tamanho da fonte do título do gráfico\n",
    "tamanho_fonte_titulo = 8\n",
    "\n",
    "# Calculando o número de linhas e colunas para os gráficos\n",
    "num_linhas, num_colunas = 2, 3\n",
    "graf_por_pagina_por_area = graficos_por_pagina // (num_linhas * num_colunas)\n",
    "\n",
    "# Inicialize uma variável para contar os gráficos\n",
    "contador_graficos = 0\n",
    "\n",
    "# Inicialize uma variável para contar as páginas\n",
    "contador_paginas = 0\n",
    "\n",
    "# Criando uma nova figura e eixos fora do loop de iteração\n",
    "fig, axs = plt.subplots(num_linhas, num_colunas, figsize=(15, 10))\n",
    "\n",
    "# Iterando sobre os subdatasets para contar o número de BEVs e PHEVs e gerar gráficos\n",
    "for marca, sub_df in subdataframes.items():\n",
    "    # Contando o número de BEVs e PHEVs em cada marca\n",
    "    contagem_ev_type = sub_df['Electric Vehicle Type'].value_counts()\n",
    "    \n",
    "    # Criando o gráfico de barras\n",
    "    linha = contador_graficos % num_linhas\n",
    "    coluna = contador_graficos % num_colunas\n",
    "    ax = axs[linha, coluna]\n",
    "    contagem_ev_type.plot(kind='bar', color=['#1f77b4', '#ff7f0e'], edgecolor='black', linewidth=3, ax=ax)\n",
    "    ax.set_title(f'Contagem de Electric Vehicle Type para a marca {marca}', fontsize=tamanho_fonte_titulo)\n",
    "    ax.set_xlabel('Tipo de Veículo Elétrico')\n",
    "    ax.set_ylabel('Contagem')\n",
    "    ax.tick_params(axis='x', rotation=0)\n",
    "    \n",
    "    # Incrementando o contador de gráficos\n",
    "    contador_graficos += 1\n",
    "\n",
    "    # Verificando se é necessário criar uma nova página\n",
    "    if contador_graficos % graf_por_pagina_por_area == 0:\n",
    "        # Exibindo a página atual de gráficos\n",
    "        plt.show()\n",
    "        # Incrementando o contador de páginas\n",
    "        contador_paginas += 1\n",
    "        # Criando uma nova figura e eixos para a próxima página\n",
    "        fig, axs = plt.subplots(num_linhas, num_colunas, figsize=(15, 10))\n",
    "\n",
    "# Ajustando o layout da última página de gráficos\n",
    "plt.tight_layout()\n",
    "# Exibindo a última página de gráficos\n",
    "plt.show()"
   ]
  },
  {
   "cell_type": "markdown",
   "metadata": {},
   "source": [
    "Agora sabemos que o foco do nosso projeto será os 'BEV' - Veiculos Elétricos, encontramos nosso Target."
   ]
  },
  {
   "cell_type": "code",
   "execution_count": null,
   "metadata": {},
   "outputs": [],
   "source": [
    "import matplotlib.pyplot as plt\n",
    "\n",
    "# Defina o número de gráficos por página\n",
    "graficos_por_pagina = 6\n",
    "\n",
    "# Tamanho da fonte do título do gráfico\n",
    "tamanho_fonte_titulo = 8\n",
    "\n",
    "# Dicionário para armazenar o número de veículos BEV por marca\n",
    "num_bev_por_marca = {}\n",
    "\n",
    "# Iterar sobre os subdatasets originais\n",
    "for marca, sub_df in subdataframes.items():\n",
    "    # Filtrar o subdataset para selecionar apenas os carros do tipo BEV\n",
    "    sub_df_bev = sub_df[sub_df['Electric Vehicle Type'] == 'Battery Electric Vehicle (BEV)']\n",
    "\n",
    "    # Armazenar o número de veículos BEV por marca\n",
    "    num_bev = len(sub_df_bev)\n",
    "\n",
    "    # Adicionar a marca e o número de veículos ao dicionário\n",
    "    num_bev_por_marca[marca] = num_bev\n",
    "\n",
    "# Ordenar o dicionário num_bev_por_marca em ordem decrescente por valor\n",
    "num_bev_por_marca_ordenado = sorted(num_bev_por_marca.items(), key=lambda x: x[1], reverse=True)\n",
    "\n",
    "# Cores para as barras\n",
    "cores = ['#1f77b4', '#ff7f0e', '#2ca02c', '#d62728', '#9467bd', '#8c564b', '#e377c2', '#7f7f7f', '#bcbd22', '#17becf']\n",
    "\n",
    "# Dividir o dicionário ordenado em lotes de tamanho graficos_por_pagina\n",
    "lotes = [num_bev_por_marca_ordenado[i:i + graficos_por_pagina] for i in range(0, len(num_bev_por_marca_ordenado), graficos_por_pagina)]\n",
    "\n",
    "# Criar e exibir os gráficos\n",
    "for lote in lotes:\n",
    "    fig, ax = plt.subplots(figsize=(10, 6))\n",
    "    for i, (marca, num_bev) in enumerate(lote):\n",
    "        ax.bar(marca, num_bev, color=cores[i], edgecolor='black', linewidth=3)\n",
    "    ax.set_title('Número de veículos BEV por marca', fontsize=tamanho_fonte_titulo)\n",
    "    ax.set_xlabel('Marca')\n",
    "    ax.set_ylabel('Número de veículos BEV')\n",
    "    ax.set_xticklabels([marca for marca, _ in lote], rotation=45)\n",
    "    plt.tight_layout()\n",
    "    plt.show()"
   ]
  },
  {
   "cell_type": "markdown",
   "metadata": {},
   "source": [
    "Separamos nosso Target"
   ]
  },
  {
   "cell_type": "code",
   "execution_count": null,
   "metadata": {},
   "outputs": [],
   "source": [
    "# Filtrar o dataset original para selecionar apenas os carros do tipo BEV\n",
    "df_bev = df.loc[df['Electric Vehicle Type'] == 'Battery Electric Vehicle (BEV)']\n",
    "\n",
    "soma_quantidade_total = df_bev['Model'].value_counts()\n",
    "total = soma_quantidade_total.sum()\n",
    "print(total)\n",
    "def consultar_veiculos_bev(df, marcas_de_interesse=None, modelos_de_interesse=None):\n",
    "   \n",
    "    print(\"Tamanho do DataFrame original:\", len(df))  # Depuração: Verificar o tamanho do DataFrame original\n",
    "\n",
    "    # Filtrar o dataset original para selecionar apenas os carros do tipo BEV\n",
    "    df_bev = df[df['Electric Vehicle Type'] == 'Battery Electric Vehicle (BEV)']\n",
    "\n",
    "    print(\"Tamanho do DataFrame filtrado (BEV):\", len(df_bev))  # Depuração: Verificar o tamanho do DataFrame filtrado\n",
    "\n",
    "    # Filtrar por marcas de interesse (se especificado)\n",
    "    if marcas_de_interesse:\n",
    "        df_bev = df_bev[df_bev['Make'].isin(marcas_de_interesse)]\n",
    "\n",
    "    print(\"Tamanho do DataFrame filtrado (marcas de interesse):\", len(df_bev))  # Depuração: Verificar o tamanho do DataFrame filtrado\n",
    "\n",
    "    # Filtrar por modelos de interesse (se especificado)\n",
    "    if modelos_de_interesse:\n",
    "        df_bev = df_bev[df_bev['Model'].isin(modelos_de_interesse)]\n",
    "\n",
    "    print(\"Tamanho do DataFrame filtrado (modelos de interesse):\", len(df_bev))  # Depuração: Verificar o tamanho do DataFrame filtrado\n",
    "\n",
    "    # Agrupar os veículos BEV por marca e modelo, contar a quantidade e manter as colunas de interesse\n",
    "    df_bev_por_marca_modelo = df_bev.groupby(['Make', 'Model']).agg(\n",
    "        Quantidade=('Model', 'size'),  # Conta o número de linhas para cada grupo (ou seja, a quantidade de veículos)\n",
    "        Electric_Range=('Electric_Range', 'first'),  # Pega a autonomia elétrica do primeiro veículo do grupo\n",
    "        Vehicle_Location=('Vehicle Location', 'first')  # Pega a localização do primeiro veículo do grupo\n",
    "    ).reset_index()\n",
    "\n",
    "    print(\"Tamanho do DataFrame após a agregação:\", len(df_bev_por_marca_modelo))  # Depuração: Verificar o tamanho do DataFrame após a agregação\n",
    "\n",
    "    # Reordenar as colunas\n",
    "    df_bev_por_marca_modelo_ordenado = df_bev_por_marca_modelo.sort_values(by='Quantidade', ascending=False)\n",
    "\n",
    "    return df_bev_por_marca_modelo_ordenado\n"
   ]
  },
  {
   "cell_type": "markdown",
   "metadata": {},
   "source": [
    "Importamos um novo Banco de Dados com Informações dos Pontos de Carregamento, para analisarmos a necessidade de aumento dos pontos"
   ]
  },
  {
   "cell_type": "code",
   "execution_count": null,
   "metadata": {},
   "outputs": [],
   "source": [
    "\n",
    "df = pd.read_csv('D:/OneDrive - Instituto Presbiteriano Mackenzie/Mackenzie/Aulas/3 semestre/Projeto Aplicado II/alt_fuel_stations (Mar 18 2024).csv')\n"
   ]
  },
  {
   "cell_type": "markdown",
   "metadata": {},
   "source": [
    "Selecionamos e trabalhamos as colunas que queriamos extrair as informaçoes"
   ]
  },
  {
   "cell_type": "code",
   "execution_count": null,
   "metadata": {},
   "outputs": [],
   "source": [
    "\n",
    "colunas_selecionadas = df.copy()\n",
    "\n",
    "colunas_selecionadas = colunas_selecionadas[['State','Groups With Access Code','EV Level1 EVSE Num', 'EV Level2 EVSE Num', 'EV DC Fast Count', 'Latitude', 'Longitude']]\n",
    "\n",
    "\n",
    "# Crie um novo DataFrame contendo apenas as linhas onde a coluna 'category' é igual a 'public'\n",
    "colunas_selecionadas_public = colunas_selecionadas[colunas_selecionadas['Groups With Access Code'] == 'Public']\n",
    "\n",
    "\n",
    "# Crie um novo DataFrame contendo apenas as linhas onde a coluna 'State' é igual a 'WA'\n",
    "colunas_selecionadas_public_wa = colunas_selecionadas_public[colunas_selecionadas_public['State'] == 'WA']\n",
    "\n",
    "# Crie uma cópia do DataFrame original para manter as outras colunas inalteradas\n",
    "df_filtered = colunas_selecionadas_public_wa.copy()\n",
    "\n",
    "# Selecione apenas as colunas específicas para verificar se todas estão preenchidas com NaN\n",
    "columns_to_check = ['EV Level1 EVSE Num', 'EV Level2 EVSE Num', 'EV DC Fast Count']\n",
    "\n",
    "# Remova as linhas onde todas as três colunas especificadas estão preenchidas com NaN\n",
    "df_filtered = df_filtered.dropna(subset=columns_to_check, how='all')\n",
    "\n",
    "\n",
    "df_filtered[['EV Level1 EVSE Num', 'EV Level2 EVSE Num', 'EV DC Fast Count']] = df_filtered[['EV Level1 EVSE Num', 'EV Level2 EVSE Num', 'EV DC Fast Count']].fillna(0)\n",
    "\n",
    "colunas_selecionadas_preenchidas = df_filtered.copy()\n"
   ]
  },
  {
   "cell_type": "markdown",
   "metadata": {},
   "source": [
    "Criamos graficos para analise exploratoria e entender como estava a distribuicao por capacidade dos pontos de recarga"
   ]
  },
  {
   "cell_type": "code",
   "execution_count": null,
   "metadata": {},
   "outputs": [],
   "source": [
    "\n",
    "# Criando o gráfico de barras coloridas\n",
    "plt.figure(figsize=(10, 6))\n",
    "soma_instancias.plot(kind='bar', color=['blue', 'green', 'red'])\n",
    "plt.title('Soma das Instâncias dos Pontos de Recarga por Capacidade')\n",
    "plt.xlabel('Colunas')\n",
    "plt.ylabel('Soma das Instâncias')\n",
    "plt.xticks(rotation=45)\n",
    "plt.grid(axis='y', linestyle='--', alpha=0.7)\n",
    "plt.tight_layout()\n",
    "plt.show()\n",
    "\n",
    "\n",
    "colunas_selecionadas = ['EV Level1 EVSE Num', 'EV Level2 EVSE Num', 'EV DC Fast Count']\n",
    "soma_total_pontos = colunas_selecionadas_public_wa[colunas_selecionadas].sum()\n",
    "print(soma_total_pontos)\n",
    "soma_total_pontos1 = 17+4175+1045\n",
    "print(soma_total_pontos1)\n",
    "soma_total = valores['EV Level1 EVSE Num'] + valores ['EV Level2 EVSE Num'] + valores['EV DC Fast Count']\n",
    "print(soma_total)\n",
    "\n",
    "# Exibindo a tabela com a soma das instâncias\n",
    "print(\"\\nTabela com a Soma das Instâncias das Colunas Selecionadas:\")\n",
    "print(soma_instancias)\n"
   ]
  },
  {
   "cell_type": "markdown",
   "metadata": {},
   "source": [
    "selecionamos as coordenadas GPS Para plotarmos em um grafico, dos dois banco de dados"
   ]
  },
  {
   "cell_type": "code",
   "execution_count": null,
   "metadata": {},
   "outputs": [],
   "source": [
    "\n",
    "colunas_gps = colunas_selecionadas_preenchidas[['Latitude', 'Longitude']]\n"
   ]
  },
  {
   "cell_type": "code",
   "execution_count": null,
   "metadata": {},
   "outputs": [],
   "source": [
    "import pandas as pd\n",
    "import re\n",
    "\n",
    "# Função para extrair latitude e longitude de uma string no formato POINT (longitude latitude)\n",
    "def extrair_latitude_longitude(point_string):\n",
    "    # Use uma expressão regular para extrair os valores numéricos\n",
    "    matches = re.findall(r\"-?\\d+\\.\\d+\", point_string)\n",
    "    if len(matches) >= 2:\n",
    "        return float(matches[1]), float(matches[0])  # A ordem é invertida para corresponder ao formato (latitude, longitude)\n",
    "    else:\n",
    "        return None, None\n",
    "\n",
    "seu_dataframe = base_dados\n",
    "# Iterar sobre as linhas do dataframe e extrair latitude e longitude\n",
    "dados_selecionados = []\n",
    "for index, linha in seu_dataframe.iterrows():\n",
    "    localizacao_str = linha['Vehicle Location']\n",
    "    latitude, longitude = extrair_latitude_longitude(localizacao_str)\n",
    "    if latitude is not None and longitude is not None:\n",
    "        dados_selecionados.append({'Latitude': latitude, 'Longitude': longitude})\n",
    "\n",
    "# Imprimir os dados\n",
    "for dado in dados_selecionados:\n",
    "    print(dado)\n",
    "    \n",
    "gps_selecionado_carros = dado"
   ]
  },
  {
   "cell_type": "code",
   "execution_count": 6,
   "metadata": {},
   "outputs": [
    {
     "data": {
      "text/plain": [
       "True"
      ]
     },
     "execution_count": 6,
     "metadata": {},
     "output_type": "execute_result"
    }
   ],
   "source": [
    "import webbrowser\n",
    "\n",
    "# Caminho para o arquivo HTML\n",
    "caminho_arquivo_html = r'D:\\OneDrive - Instituto Presbiteriano Mackenzie\\GitHub\\google earth\\imagem de distribuicao automoveis x pontos de carga.html'\n",
    "\n",
    "# Abrir o arquivo HTML em um navegador padrão\n",
    "webbrowser.open('file://' + caminho_arquivo_html)"
   ]
  },
  {
   "cell_type": "markdown",
   "metadata": {},
   "source": [
    "No grafico conseguimos visualizar a distribuição dos automoveis eletricos e dos pontos de recarga, mas precisamos verificar isto em numeros.\n",
    "Para isto realizmos calculos de densidade"
   ]
  },
  {
   "cell_type": "code",
   "execution_count": null,
   "metadata": {},
   "outputs": [],
   "source": [
    "#Precisamos calcular a densidade de veiculos por unidade\n",
    "#por area: Formula Densidade = Numero de veiculos/Area da Regiao em quilometros quadrados\n",
    "#area da regiao de Washingtom em km2 177 quilometros segundo site https://www.greelane.com/pt/humanidades/geografia/washington-dc-geography-1435747/#:~:text=DC%20tem%2068%20milhas%20quadradas%20A%20%C3%A1rea%20total,m%29%20e%20est%C3%A1%20localizado%20no%20bairro%20de%20Tenleytown.\n",
    "Formula_Densidade = total / 177\n",
    "print(Formula_Densidade)\n"
   ]
  },
  {
   "cell_type": "code",
   "execution_count": null,
   "metadata": {},
   "outputs": [],
   "source": [
    "#Densidade de Veiculos por ponto de recarga\n",
    "#Formula Densidade = Numero de veiculos eletricos / Numero pontos de recarga\n",
    "densidade_ponto_recarga = total / soma_total_pontos1\n",
    "print(densidade_ponto_recarga)\n"
   ]
  },
  {
   "cell_type": "code",
   "execution_count": null,
   "metadata": {},
   "outputs": [],
   "source": [
    "#Densidade de veiculos em relação a capacidade de carga.\n",
    "#levar em consideração a capacidade de carga dos pontos em relação\n",
    "#aos diferentes tipos de pontos com capacidade variada\n",
    "#formula densidade = numero de veiculos / capacidade total dos pontos de recarga\n",
    "capacidade_EV_Level1 = total / 17\n",
    "print(capacidade_EV_Level1)\n"
   ]
  },
  {
   "cell_type": "code",
   "execution_count": null,
   "metadata": {},
   "outputs": [],
   "source": [
    "capacidade_EV_Level2= total / 1045\n",
    "print(capacidade_EV_Level1)\n"
   ]
  },
  {
   "cell_type": "markdown",
   "metadata": {},
   "source": [
    "\n",
    "EV_DC_Fast_Count = total / 4175\n",
    "print(capacidade_EV_Level1)\n"
   ]
  },
  {
   "cell_type": "markdown",
   "metadata": {},
   "source": [
    "E analisar tendencias futuras usando graficos e estatisticas para analisar tendencias"
   ]
  },
  {
   "cell_type": "code",
   "execution_count": null,
   "metadata": {},
   "outputs": [],
   "source": [
    "base_dados = pd.read_csv('D:/OneDrive - Instituto Presbiteriano Mackenzie/Mackenzie/Aulas/3 semestre/Projeto Aplicado II/Electric_Vehicle_Population_Data.csv', index_col=False)\n",
    "\n",
    "print(base_dados.dtypes)\n",
    "\n",
    "base = base_dados[base_dados['Model Year'] >= 2015]\n",
    "\n",
    "base = base_dados[base_dados['Electric Vehicle Type'] == 'Battery Electric Vehicle (BEV)']\n",
    "\n",
    "\n",
    "base_selecionada = base[['Model','Model Year', 'Electric Vehicle Type']]\n",
    "\n",
    "base_selecionada = base_selecionada.groupby([\"Model\", \"Model Year\"]).size().reset_index(name=\"Quantidade\")\n",
    "\n",
    "\n",
    "# Exibindo o DataFrame com as instâncias relacionadas com 'Battery Electric Vehicle (BEV)'\n",
    "print(base_selecionada)\n",
    "\n",
    "base_selecionada_progressao = base_selecionada[['Model Year', 'Quantidade']]\n",
    "\n",
    "\n",
    "#Definir a semente\n",
    "\n",
    "random.seed(1234)\n",
    "# Pré-processamento de dados\n",
    "base_selecionada_progressao[\"Model Year\"] = pd.to_numeric(base_selecionada_progressao[\"Model Year\"])\n",
    "base_selecionada_progressao.dropna(inplace=True)\n",
    "\n",
    "# Selecionar variáveis\n",
    "X = base_selecionada_progressao[\"Model Year\"]\n",
    "y = base_selecionada_progressao[\"Quantidade\"]\n",
    "\n",
    "# Dividir dados em conjuntos de treinamento e teste\n",
    "X_train, X_test, y_train, y_test = train_test_split(X, y, test_size=0.3)\n",
    "\n",
    "# Treinar o modelo\n",
    "model = LinearRegression()\n",
    "model.fit(X_train.values.reshape(-1, 1), y_train)\n",
    "\n",
    "# Avaliar o modelo\n",
    "print(\"R²:\", model.score(X_test.values.reshape(-1, 1), y_test))\n",
    "print(\"RMSE:\", np.sqrt(mean_squared_error(y_test, model.predict(X_test.values.reshape(-1, 1)))))\n",
    "\n",
    "# Fazer previsões para um futuro \"Model Year\"\n",
    "ano_futuro = 2030\n",
    "previsao = model.predict([[ano_futuro]])\n",
    "\n",
    "print(f\"Previsão de vendas para {ano_futuro}: {previsao}\")\n",
    "\n",
    "# Criar um vetor de \"Model Year\" para as previsões\n",
    "anos_futuro = np.arange(2023, 2030)\n",
    "\n",
    "# Fazer previsões para os \"Model Years\" futuros\n",
    "previsoes = model.predict(anos_futuro.reshape(-1, 1))\n",
    "\n",
    "# Plotar os dados\n",
    "plt.scatter(X_test, y_test, color=\"blue\", label=\"Dados\")\n",
    "plt.plot(X_test, model.predict(X_test.values.reshape(-1, 1)), color=\"red\", label=\"Linha de regressão\")\n",
    "plt.plot(anos_futuro, previsoes, color=\"green\", label=\"Previsões\")\n",
    "\n",
    "# Ajustar o gráfico\n",
    "plt.legend()\n",
    "plt.xlabel(\"Model Year\")\n",
    "plt.ylabel(\"Quantidade\")\n",
    "plt.title(\"Regressão Linear\")\n",
    "plt.show()\n",
    "\n"
   ]
  },
  {
   "cell_type": "markdown",
   "metadata": {},
   "source": [
    "Agora com base em suposições sobre o crescimento futuro\n"
   ]
  },
  {
   "cell_type": "code",
   "execution_count": null,
   "metadata": {},
   "outputs": [],
   "source": [
    "# Cenário otimista: crescimento de 10% ao ano\n",
    "optimistic_growth_rate_010 = 0.10\n",
    "\n",
    "crescimento_estimado010 = 2019.1710 + 0.0003 * optimistic_growth_rate_010\n",
    "print(crescimento_estimado010)\n",
    "\n",
    "# Cenário pessimista: crescimento de 5% ao ano\n",
    "pessimistic_growth_rate_05 = 0.05\n",
    "\n",
    "crescimento_estimado05 = 2019.1710 + 0.0003 * pessimistic_growth_rate_05\n",
    "print(crescimento_estimado05)\n",
    "\n",
    "\n",
    "# Cenário realista: crescimento de 7% ao ano\n",
    "realistic_growth_rate = 0.07\n",
    "\n",
    "crescimento_estimado07 = 2019.1710 + 0.0003 * realistic_growth_rate\n",
    "print(crescimento_estimado07)\n",
    "\n",
    "\n",
    "modelo_ano = pd.DataFrame({'ModelYear':[10]})\n",
    "quantidade_estimada = lm.predict(crescimento_estimado07)[0]\n",
    "print(quantidade_estimada)"
   ]
  }
 ],
 "metadata": {
  "kernelspec": {
   "display_name": "Python 3",
   "language": "python",
   "name": "python3"
  },
  "language_info": {
   "codemirror_mode": {
    "name": "ipython",
    "version": 3
   },
   "file_extension": ".py",
   "mimetype": "text/x-python",
   "name": "python",
   "nbconvert_exporter": "python",
   "pygments_lexer": "ipython3",
   "version": "3.11.8"
  }
 },
 "nbformat": 4,
 "nbformat_minor": 2
}
